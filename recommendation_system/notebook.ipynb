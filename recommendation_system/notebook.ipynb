{
 "cells": [
  {
   "cell_type": "markdown",
   "metadata": {},
   "source": [
    "Kasus : [Restaurant and Consumer](https://www.kaggle.com/datasets/uciml/restaurant-data-with-consumer-ratings). Sebagai seorang Data Scientist, tentu Anda ingin memanfaatkan data tersebut untuk meningkatkan transaksi di perusahaan. Kembangkan sebuah sistem rekomendasi restoran untuk menjawab permasalahan berikut:\n",
    "\n",
    "- Berdasarkan data mengenai pengguna, bagaimana membuat sistem rekomendasi yang dipersonalisasi dengan teknik content-based filtering?\n",
    "- Dengan data rating yang Anda miliki, bagaimana perusahaan dapat merekomendasikan restoran lain yang mungkin disukai dan belum pernah dikunjungi oleh pengguna? \n",
    "- Untuk  menjawab pertanyaan tersebut, buatlah sistem rekomendasi dengan tujuan atau goals sebagai berikut:\n",
    "    - Menghasilkan sejumlah rekomendasi restoran yang dipersonalisasi untuk pengguna dengan teknik content-based filtering.\n",
    "    - Menghasilkan sejumlah rekomendasi restoran yang sesuai dengan preferensi pengguna dan belum pernah dikunjungi sebelumnya dengan teknik collaborative filtering."
   ]
  },
  {
   "cell_type": "markdown",
   "metadata": {},
   "source": [
    "## Dataset"
   ]
  },
  {
   "cell_type": "markdown",
   "metadata": {},
   "source": [
    "Restaurants\n",
    "- chefmozaccepts.cs\n",
    "- chefmozcuisine.csv\n",
    "- chefmozhours4.csv\n",
    "- chefmozparking.csv\n",
    "- geoplaces2.csv\n",
    "\n",
    "Consumers\n",
    "\n",
    "- usercuisine.csv\n",
    "- userpayment.csv\n",
    "- userprofile.csv\n",
    "\n",
    "User-Item-Rating\n",
    "- rating_final.csv"
   ]
  },
  {
   "cell_type": "code",
   "execution_count": 1,
   "metadata": {},
   "outputs": [
    {
     "name": "stdout",
     "output_type": "stream",
     "text": [
      "Jumlah data pembayaran yang diterima restoran:  615\n",
      "Jumlah data masakan pada restoran:  769\n",
      "Jumlah data waktu buka restoran:  694\n",
      "Jumlah data lokasi restoran:  130\n",
      "Jumlah data masakan pengguna:  138\n",
      "Jumlah data profil pengguna:  138\n",
      "Jumlah data penilaian yang diberikan pengguna:  138\n",
      "Jumlah data penilaian restoran:  130\n"
     ]
    }
   ],
   "source": [
    "import pandas as pd\n",
    " \n",
    "accepts = pd.read_csv('dataset_latihan/chefmozaccepts.csv')\n",
    "cuisine = pd.read_csv('dataset_latihan/chefmozcuisine.csv')\n",
    "hours = pd.read_csv('dataset_latihan/chefmozhours4.csv')\n",
    "parking = pd.read_csv('dataset_latihan/chefmozparking.csv')\n",
    "geo = pd.read_csv('dataset_latihan/geoplaces2.csv', encoding = \"ISO-8859-1\")\n",
    "usercuisine = pd.read_csv('dataset_latihan/usercuisine.csv')\n",
    "payment = pd.read_csv('dataset_latihan/userpayment.csv')\n",
    "profile = pd.read_csv('dataset_latihan/userprofile.csv')\n",
    "rating = pd.read_csv('dataset_latihan/rating_final.csv')\n",
    " \n",
    "print('Jumlah data pembayaran yang diterima restoran: ', len(accepts.placeID.unique()))\n",
    "print('Jumlah data masakan pada restoran: ', len(cuisine.placeID.unique()))\n",
    "print('Jumlah data waktu buka restoran: ', len(hours.placeID.unique()))\n",
    "print('Jumlah data lokasi restoran: ', len(geo.placeID.unique()))\n",
    "print('Jumlah data masakan pengguna: ', len(usercuisine.userID.unique()))\n",
    "print('Jumlah data profil pengguna: ', len(profile.userID.unique()))\n",
    "print('Jumlah data penilaian yang diberikan pengguna: ', len(rating.userID.unique()))\n",
    "print('Jumlah data penilaian restoran: ', len(rating.placeID.unique()))"
   ]
  },
  {
   "cell_type": "markdown",
   "metadata": {},
   "source": [
    "## Univariate Exploratory Data Analysis"
   ]
  },
  {
   "cell_type": "markdown",
   "metadata": {},
   "source": [
    "- accepts : merupakan jenis pembayaran yang diterima pada restoran tertentu.\n",
    "- cuisine : merupakan jenis masakan yang disajikan pada restoran.\n",
    "- hours : merupakan jadwal buka dan tutupnya restoran.\n",
    "- parking : merupakan ketersediaan tempat parkir pada restoran.\n",
    "- geo : merupakan letak restoran.\n",
    "- usercuisine : merupakan jenis masakan dari data pengguna.\n",
    "- payment : merupakan jenis pembayaran yang dipakai pengguna.\n",
    "- profile : merupakan data profil pengguna.\n",
    "\n",
    "Variabel cuisine dan rating akan digunakan pada model rekomendasi kita. Sedangkan, variabel accept dan profile hanya untuk melihat bagaimana profile dan jenis pembayaran yang digunakan oleh pengguna. \n"
   ]
  },
  {
   "cell_type": "markdown",
   "metadata": {},
   "source": [
    "### Accept Variabel (jenis pembayaran yang diterima)"
   ]
  },
  {
   "cell_type": "code",
   "execution_count": 2,
   "metadata": {},
   "outputs": [
    {
     "name": "stdout",
     "output_type": "stream",
     "text": [
      "<class 'pandas.core.frame.DataFrame'>\n",
      "RangeIndex: 1314 entries, 0 to 1313\n",
      "Data columns (total 2 columns):\n",
      " #   Column    Non-Null Count  Dtype \n",
      "---  ------    --------------  ----- \n",
      " 0   placeID   1314 non-null   int64 \n",
      " 1   Rpayment  1314 non-null   object\n",
      "dtypes: int64(1), object(1)\n",
      "memory usage: 20.7+ KB\n"
     ]
    }
   ],
   "source": [
    "accepts.info()"
   ]
  },
  {
   "cell_type": "code",
   "execution_count": 3,
   "metadata": {},
   "outputs": [
    {
     "name": "stdout",
     "output_type": "stream",
     "text": [
      "Banyak data:  615\n",
      "Jenis Pembayaran yang diterima:  ['cash' 'VISA' 'MasterCard-Eurocard' 'American_Express' 'bank_debit_cards'\n",
      " 'checks' 'Discover' 'Carte_Blanche' 'Diners_Club' 'Visa'\n",
      " 'Japan_Credit_Bureau' 'gift_certificates']\n"
     ]
    }
   ],
   "source": [
    "print('Banyak data: ', len(accepts.placeID.unique()))\n",
    "print('Jenis Pembayaran yang diterima: ', accepts.Rpayment.unique())"
   ]
  },
  {
   "cell_type": "markdown",
   "metadata": {},
   "source": [
    "### Cuisine Variable (Jenis masakan yang tersedia)"
   ]
  },
  {
   "cell_type": "code",
   "execution_count": 4,
   "metadata": {},
   "outputs": [
    {
     "name": "stdout",
     "output_type": "stream",
     "text": [
      "<class 'pandas.core.frame.DataFrame'>\n",
      "RangeIndex: 916 entries, 0 to 915\n",
      "Data columns (total 2 columns):\n",
      " #   Column    Non-Null Count  Dtype \n",
      "---  ------    --------------  ----- \n",
      " 0   placeID   916 non-null    int64 \n",
      " 1   Rcuisine  916 non-null    object\n",
      "dtypes: int64(1), object(1)\n",
      "memory usage: 14.4+ KB\n"
     ]
    }
   ],
   "source": [
    "cuisine.info()"
   ]
  },
  {
   "cell_type": "code",
   "execution_count": 5,
   "metadata": {},
   "outputs": [
    {
     "name": "stdout",
     "output_type": "stream",
     "text": [
      "Banyak tipe masakan:  59\n",
      "Tipe masakan:  ['Spanish' 'Italian' 'Latin_American' 'Mexican' 'Fast_Food' 'Burgers'\n",
      " 'Dessert-Ice_Cream' 'Hot_Dogs' 'Steaks' 'Asian' 'International'\n",
      " 'Mongolian' 'Vegetarian' 'Brazilian' 'Cafe-Coffee_Shop' 'Cafeteria'\n",
      " 'Contemporary' 'Deli-Sandwiches' 'Diner' 'Japanese' 'Sushi' 'Seafood'\n",
      " 'Chinese' 'Bar' 'Bar_Pub_Brewery' 'Pizzeria' 'Mediterranean' 'American'\n",
      " 'Family' 'Caribbean' 'African' 'Breakfast-Brunch' 'Regional' 'Afghan'\n",
      " 'Bakery' 'Game' 'Armenian' 'Vietnamese' 'Korean' 'Thai' 'Barbecue'\n",
      " 'Polish' 'Dutch-Belgian' 'French' 'German' 'Southwestern' 'Persian'\n",
      " 'Ethiopian' 'Juice' 'Soup' 'Continental-European' 'Greek' 'Southern'\n",
      " 'Eastern_European' 'California' 'Bagels' 'Turkish' 'Organic-Healthy'\n",
      " 'Fine_Dining']\n"
     ]
    }
   ],
   "source": [
    "print('Banyak tipe masakan: ', len(cuisine.Rcuisine.unique()))\n",
    "print('Tipe masakan: ', cuisine.Rcuisine.unique())"
   ]
  }
 ],
 "metadata": {
  "kernelspec": {
   "display_name": "base",
   "language": "python",
   "name": "python3"
  },
  "language_info": {
   "codemirror_mode": {
    "name": "ipython",
    "version": 3
   },
   "file_extension": ".py",
   "mimetype": "text/x-python",
   "name": "python",
   "nbconvert_exporter": "python",
   "pygments_lexer": "ipython3",
   "version": "3.9.12"
  }
 },
 "nbformat": 4,
 "nbformat_minor": 2
}
