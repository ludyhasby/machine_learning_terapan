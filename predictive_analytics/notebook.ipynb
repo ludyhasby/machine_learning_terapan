{
 "cells": [
  {
   "cell_type": "markdown",
   "metadata": {},
   "source": [
    "# Laporan Proyek Machine Learning - Ludy Hasby Aulia"
   ]
  },
  {
   "cell_type": "markdown",
   "metadata": {},
   "source": [
    "## Domain Proyek\n",
    "\n",
    "Pada bagian ini, kamu perlu menuliskan latar belakang yang relevan dengan proyek yang diangkat.\n",
    "\n",
    "**Rubrik/Kriteria Tambahan (Opsional)**:\n",
    "- Jelaskan mengapa dan bagaimana masalah tersebut harus diselesaikan\n",
    "- Menyertakan hasil riset terkait atau referensi. Referensi yang diberikan harus berasal dari sumber yang kredibel dan author yang jelas.\n",
    "  \n",
    "  Format Referensi: [Judul Referensi](https://scholar.google.com/) "
   ]
  },
  {
   "cell_type": "markdown",
   "metadata": {},
   "source": [
    "## Business Understanding\n",
    "\n",
    "Pada bagian ini, kamu perlu menjelaskan proses klarifikasi masalah.\n",
    "\n",
    "Bagian laporan ini mencakup:"
   ]
  },
  {
   "cell_type": "markdown",
   "metadata": {},
   "source": [
    "### Problem Statements\n",
    "\n",
    "Menjelaskan pernyataan masalah latar belakang:\n",
    "- Pernyataan Masalah 1\n",
    "- Pernyataan Masalah 2\n",
    "- Pernyataan Masalah n"
   ]
  },
  {
   "cell_type": "markdown",
   "metadata": {},
   "source": [
    "### Goals\n",
    "\n",
    "Menjelaskan tujuan dari pernyataan masalah:\n",
    "- Jawaban pernyataan masalah 1\n",
    "- Jawaban pernyataan masalah 2\n",
    "- Jawaban pernyataan masalah n\n",
    "\n",
    "Semua poin di atas harus diuraikan dengan jelas. Anda bebas menuliskan berapa pernyataan masalah dan juga goals yang diinginkan.\n",
    "\n",
    "**Rubrik/Kriteria Tambahan (Opsional)**:\n",
    "- Menambahkan bagian “Solution Statement” yang menguraikan cara untuk meraih goals. Bagian ini dibuat dengan ketentuan sebagai berikut: \n",
    "\n",
    "    ### Solution statements\n",
    "    - Mengajukan 2 atau lebih solution statement. Misalnya, menggunakan dua atau lebih algoritma untuk mencapai solusi yang diinginkan atau melakukan improvement pada baseline model dengan hyperparameter tuning.\n",
    "    - Solusi yang diberikan harus dapat terukur dengan metrik evaluasi."
   ]
  },
  {
   "cell_type": "markdown",
   "metadata": {},
   "source": [
    "## Data Understanding\n",
    "Paragraf awal bagian ini menjelaskan informasi mengenai data yang Anda gunakan dalam proyek. Sertakan juga sumber atau tautan untuk mengunduh dataset. Contoh: [UCI Machine Learning Repository](https://archive.ics.uci.edu/ml/datasets/Restaurant+%26+consumer+data).\n",
    "\n",
    "Selanjutnya uraikanlah seluruh variabel atau fitur pada data. Sebagai contoh:  \n"
   ]
  },
  {
   "cell_type": "markdown",
   "metadata": {},
   "source": [
    "### Variabel-variabel pada Restaurant UCI dataset adalah sebagai berikut:\n",
    "- accepts : merupakan jenis pembayaran yang diterima pada restoran tertentu.\n",
    "- cuisine : merupakan jenis masakan yang disajikan pada restoran.\n",
    "- dst\n",
    "\n",
    "**Rubrik/Kriteria Tambahan (Opsional)**:\n",
    "- Melakukan beberapa tahapan yang diperlukan untuk memahami data, contohnya teknik visualisasi data atau exploratory data analysis.\n"
   ]
  },
  {
   "cell_type": "markdown",
   "metadata": {},
   "source": [
    "## Data Preparation\n",
    "Pada bagian ini Anda menerapkan dan menyebutkan teknik data preparation yang dilakukan. Teknik yang digunakan pada notebook dan laporan harus berurutan.\n",
    "\n",
    "**Rubrik/Kriteria Tambahan (Opsional)**: \n",
    "- Menjelaskan proses data preparation yang dilakukan\n",
    "- Menjelaskan alasan mengapa diperlukan tahapan data preparation tersebut.\n"
   ]
  },
  {
   "cell_type": "markdown",
   "metadata": {},
   "source": [
    "## Modeling\n",
    "Tahapan ini membahas mengenai model machine learning yang digunakan untuk menyelesaikan permasalahan. Anda perlu menjelaskan tahapan dan parameter yang digunakan pada proses pemodelan.\n",
    "\n",
    "**Rubrik/Kriteria Tambahan (Opsional)**: \n",
    "- Menjelaskan kelebihan dan kekurangan dari setiap algoritma yang digunakan.\n",
    "- Jika menggunakan satu algoritma pada solution statement, lakukan proses improvement terhadap model dengan hyperparameter tuning. **Jelaskan proses improvement yang dilakukan**.\n",
    "- Jika menggunakan dua atau lebih algoritma pada solution statement, maka pilih model terbaik sebagai solusi. **Jelaskan mengapa memilih model tersebut sebagai model terbaik**.\n"
   ]
  },
  {
   "cell_type": "markdown",
   "metadata": {},
   "source": [
    "## Evaluation\n",
    "Pada bagian ini anda perlu menyebutkan metrik evaluasi yang digunakan. Lalu anda perlu menjelaskan hasil proyek berdasarkan metrik evaluasi yang digunakan.\n",
    "\n",
    "Sebagai contoh, Anda memiih kasus klasifikasi dan menggunakan metrik **akurasi, precision, recall, dan F1 score**. Jelaskan mengenai beberapa hal berikut:\n",
    "- Penjelasan mengenai metrik yang digunakan\n",
    "- Menjelaskan hasil proyek berdasarkan metrik evaluasi\n",
    "\n",
    "Ingatlah, metrik evaluasi yang digunakan harus sesuai dengan konteks data, problem statement, dan solusi yang diinginkan.\n",
    "\n",
    "**Rubrik/Kriteria Tambahan (Opsional)**: \n",
    "- Menjelaskan formula metrik dan bagaimana metrik tersebut bekerja.\n",
    "\n",
    "**---Ini adalah bagian akhir laporan---**\n",
    "\n",
    "_Catatan:_\n",
    "- _Anda dapat menambahkan gambar, kode, atau tabel ke dalam laporan jika diperlukan. Temukan caranya pada contoh dokumen markdown di situs editor [Dillinger](https://dillinger.io/), [Github Guides: Mastering markdown](https://guides.github.com/features/mastering-markdown/), atau sumber lain di internet. Semangat!_\n",
    "- Jika terdapat penjelasan yang harus menyertakan code snippet, tuliskan dengan sewajarnya. Tidak perlu menuliskan keseluruhan kode project, cukup bagian yang ingin dijelaskan saja.\n",
    "\n"
   ]
  },
  {
   "cell_type": "code",
   "execution_count": null,
   "metadata": {},
   "outputs": [],
   "source": []
  }
 ],
 "metadata": {
  "language_info": {
   "name": "python"
  }
 },
 "nbformat": 4,
 "nbformat_minor": 2
}
